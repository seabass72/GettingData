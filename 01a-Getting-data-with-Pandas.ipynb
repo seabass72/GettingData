{
 "cells": [
  {
   "cell_type": "markdown",
   "metadata": {},
   "source": [
    "## ♦ Grabbing static text files with `Pandas`\n",
    "While once much more common, a number of agencies still provide access to data as raw text files served up on a web server. Some examples are [USGS Water Use Data](https://water.usgs.gov/watuse/data/2010/index.html), and [NWIS Stream Flow data](https://waterdata.usgs.gov/nc/nwis/water_use?format=rdb&rdb_compression=value&wu_area=County&wu_year=ALL&wu_county=ALL&wu_category=IN&wu_county_nms=--ALL%2BCounties--&wu_category_nms=Industrial). If you've ever used these data in your projects, you know it's fairly easy to manage: just download the link to the file (if a download link is provided), or justcopy and paste. \n",
    "\n",
    "But if you have a lot of files to download, or if, like the stream gage data, you need to download it in real-time for your reseach, you can write a script to do this. Turns out it's note even that hard, thanks to the `pandas` package. \n",
    "\n",
    "This notebook demonstrates how `pandas` can read a text file from the web just as easily as a text file located on our local machine. We just substitute the data's web address (i.e., its URL) where we'd put the filename in using the `read_csv` function. It's that easy, but it only works if the data being served remotely is a raw text file...\n",
    "\n",
    "Here we examine the process for grabbing 2010 water use data for North Carolina hosted on a USGS server..."
   ]
  },
  {
   "cell_type": "markdown",
   "metadata": {},
   "source": [
    "First, for argument's sake, let's see how this data set would be nabbed manually:\n",
    "* Navigate to https://waterdata.usgs.gov/nwis/wu\n",
    "* In the upper-righthand side, select `North Carolina` from the dropdown\n",
    "* Select `State Data`\n",
    "* For retrieval criteria, choose:\n",
    " * Year `--All Years--`\n",
    " * Area Type: `County`, `--All Counties--`\n",
    " * Category: `Industrial`\n",
    "* Hit `Submit`\n",
    "* For Output Format, select `Tab-separated data` and `Display in Browser`\n",
    "* When the data appear, the URL in the browser is what we want; it will always link to these data, and we can use pandas to pull the data we want using that URL.  "
   ]
  },
  {
   "cell_type": "code",
   "execution_count": 1,
   "metadata": {},
   "outputs": [],
   "source": [
    "# Import the pandas module\n",
    "import pandas as pd"
   ]
  },
  {
   "cell_type": "code",
   "execution_count": 2,
   "metadata": {},
   "outputs": [],
   "source": [
    "# Set the url as a variable; this is the URL we generated above\n",
    "theURL = 'https://waterdata.usgs.gov/ca/nwis/water_use?format=rdb&rdb_compression=value&wu_area=County&wu_year=ALL&wu_county=ALL&wu_category=LI&wu_county_nms=--ALL%2BCounties--&wu_category_nms=Livestock'"
   ]
  },
  {
   "cell_type": "code",
   "execution_count": 3,
   "metadata": {},
   "outputs": [
    {
     "data": {
      "text/html": [
       "<div>\n",
       "<style scoped>\n",
       "    .dataframe tbody tr th:only-of-type {\n",
       "        vertical-align: middle;\n",
       "    }\n",
       "\n",
       "    .dataframe tbody tr th {\n",
       "        vertical-align: top;\n",
       "    }\n",
       "\n",
       "    .dataframe thead th {\n",
       "        text-align: right;\n",
       "    }\n",
       "</style>\n",
       "<table border=\"1\" class=\"dataframe\">\n",
       "  <thead>\n",
       "    <tr style=\"text-align: right;\">\n",
       "      <th></th>\n",
       "      <th>state_cd</th>\n",
       "      <th>state_name</th>\n",
       "      <th>county_cd</th>\n",
       "      <th>county_nm</th>\n",
       "      <th>year</th>\n",
       "      <th>Livestock self-supplied groundwater withdrawals, fresh, in Mgal/d</th>\n",
       "      <th>Livestock self-supplied surface-water withdrawals, fresh, in Mgal/d</th>\n",
       "      <th>Livestock total self-supplied withdrawals, fresh, in Mgal/d</th>\n",
       "      <th>Livestock consumptive use, fresh, in Mgal/d</th>\n",
       "    </tr>\n",
       "  </thead>\n",
       "  <tbody>\n",
       "    <tr>\n",
       "      <th>0</th>\n",
       "      <td>2s</td>\n",
       "      <td>40s</td>\n",
       "      <td>3s</td>\n",
       "      <td>40s</td>\n",
       "      <td>4s</td>\n",
       "      <td>16s</td>\n",
       "      <td>16s</td>\n",
       "      <td>16s</td>\n",
       "      <td>16s</td>\n",
       "    </tr>\n",
       "    <tr>\n",
       "      <th>1</th>\n",
       "      <td>06</td>\n",
       "      <td>California</td>\n",
       "      <td>001</td>\n",
       "      <td>Alameda County</td>\n",
       "      <td>1985</td>\n",
       "      <td>-</td>\n",
       "      <td>-</td>\n",
       "      <td>-</td>\n",
       "      <td>-</td>\n",
       "    </tr>\n",
       "    <tr>\n",
       "      <th>2</th>\n",
       "      <td>06</td>\n",
       "      <td>California</td>\n",
       "      <td>001</td>\n",
       "      <td>Alameda County</td>\n",
       "      <td>1990</td>\n",
       "      <td>-</td>\n",
       "      <td>-</td>\n",
       "      <td>-</td>\n",
       "      <td>-</td>\n",
       "    </tr>\n",
       "    <tr>\n",
       "      <th>3</th>\n",
       "      <td>06</td>\n",
       "      <td>California</td>\n",
       "      <td>001</td>\n",
       "      <td>Alameda County</td>\n",
       "      <td>1995</td>\n",
       "      <td>-</td>\n",
       "      <td>-</td>\n",
       "      <td>-</td>\n",
       "      <td>-</td>\n",
       "    </tr>\n",
       "    <tr>\n",
       "      <th>4</th>\n",
       "      <td>06</td>\n",
       "      <td>California</td>\n",
       "      <td>001</td>\n",
       "      <td>Alameda County</td>\n",
       "      <td>2000</td>\n",
       "      <td>0.39</td>\n",
       "      <td>0.49</td>\n",
       "      <td>0.88</td>\n",
       "      <td>-</td>\n",
       "    </tr>\n",
       "  </tbody>\n",
       "</table>\n",
       "</div>"
      ],
      "text/plain": [
       "  state_cd  state_name county_cd       county_nm  year  \\\n",
       "0       2s         40s        3s             40s    4s   \n",
       "1       06  California       001  Alameda County  1985   \n",
       "2       06  California       001  Alameda County  1990   \n",
       "3       06  California       001  Alameda County  1995   \n",
       "4       06  California       001  Alameda County  2000   \n",
       "\n",
       "  Livestock self-supplied groundwater withdrawals, fresh, in Mgal/d  \\\n",
       "0                                                16s                  \n",
       "1                                                  -                  \n",
       "2                                                  -                  \n",
       "3                                                  -                  \n",
       "4                                               0.39                  \n",
       "\n",
       "  Livestock self-supplied surface-water withdrawals, fresh, in Mgal/d  \\\n",
       "0                                                16s                    \n",
       "1                                                  -                    \n",
       "2                                                  -                    \n",
       "3                                                  -                    \n",
       "4                                               0.49                    \n",
       "\n",
       "  Livestock total self-supplied withdrawals, fresh, in Mgal/d  \\\n",
       "0                                                16s            \n",
       "1                                                  -            \n",
       "2                                                  -            \n",
       "3                                                  -            \n",
       "4                                               0.88            \n",
       "\n",
       "  Livestock consumptive use, fresh, in Mgal/d  \n",
       "0                                         16s  \n",
       "1                                           -  \n",
       "2                                           -  \n",
       "3                                           -  \n",
       "4                                           -  "
      ]
     },
     "execution_count": 3,
     "metadata": {},
     "output_type": "execute_result"
    }
   ],
   "source": [
    "# Read in the data as a pandas data frame and display the first 5 rows\n",
    "# -Note we need to specify that it's a tab delimited file and uses '#' to indicated commments\n",
    "dfNWIS = pd.read_csv(theURL, delimiter='\\t', comment='#')\n",
    "dfNWIS.head()"
   ]
  },
  {
   "cell_type": "markdown",
   "metadata": {},
   "source": [
    "So there's one catch: the second line of the dataframe is not the data we want, but rather a listing of the field type and width. Pandas offers two ways around this. First, we could just drop the first row..."
   ]
  },
  {
   "cell_type": "code",
   "execution_count": 4,
   "metadata": {},
   "outputs": [
    {
     "data": {
      "text/html": [
       "<div>\n",
       "<style scoped>\n",
       "    .dataframe tbody tr th:only-of-type {\n",
       "        vertical-align: middle;\n",
       "    }\n",
       "\n",
       "    .dataframe tbody tr th {\n",
       "        vertical-align: top;\n",
       "    }\n",
       "\n",
       "    .dataframe thead th {\n",
       "        text-align: right;\n",
       "    }\n",
       "</style>\n",
       "<table border=\"1\" class=\"dataframe\">\n",
       "  <thead>\n",
       "    <tr style=\"text-align: right;\">\n",
       "      <th></th>\n",
       "      <th>state_cd</th>\n",
       "      <th>state_name</th>\n",
       "      <th>county_cd</th>\n",
       "      <th>county_nm</th>\n",
       "      <th>year</th>\n",
       "      <th>Livestock self-supplied groundwater withdrawals, fresh, in Mgal/d</th>\n",
       "      <th>Livestock self-supplied surface-water withdrawals, fresh, in Mgal/d</th>\n",
       "      <th>Livestock total self-supplied withdrawals, fresh, in Mgal/d</th>\n",
       "      <th>Livestock consumptive use, fresh, in Mgal/d</th>\n",
       "    </tr>\n",
       "  </thead>\n",
       "  <tbody>\n",
       "    <tr>\n",
       "      <th>1</th>\n",
       "      <td>06</td>\n",
       "      <td>California</td>\n",
       "      <td>001</td>\n",
       "      <td>Alameda County</td>\n",
       "      <td>1985</td>\n",
       "      <td>-</td>\n",
       "      <td>-</td>\n",
       "      <td>-</td>\n",
       "      <td>-</td>\n",
       "    </tr>\n",
       "    <tr>\n",
       "      <th>2</th>\n",
       "      <td>06</td>\n",
       "      <td>California</td>\n",
       "      <td>001</td>\n",
       "      <td>Alameda County</td>\n",
       "      <td>1990</td>\n",
       "      <td>-</td>\n",
       "      <td>-</td>\n",
       "      <td>-</td>\n",
       "      <td>-</td>\n",
       "    </tr>\n",
       "    <tr>\n",
       "      <th>3</th>\n",
       "      <td>06</td>\n",
       "      <td>California</td>\n",
       "      <td>001</td>\n",
       "      <td>Alameda County</td>\n",
       "      <td>1995</td>\n",
       "      <td>-</td>\n",
       "      <td>-</td>\n",
       "      <td>-</td>\n",
       "      <td>-</td>\n",
       "    </tr>\n",
       "    <tr>\n",
       "      <th>4</th>\n",
       "      <td>06</td>\n",
       "      <td>California</td>\n",
       "      <td>001</td>\n",
       "      <td>Alameda County</td>\n",
       "      <td>2000</td>\n",
       "      <td>0.39</td>\n",
       "      <td>0.49</td>\n",
       "      <td>0.88</td>\n",
       "      <td>-</td>\n",
       "    </tr>\n",
       "    <tr>\n",
       "      <th>5</th>\n",
       "      <td>06</td>\n",
       "      <td>California</td>\n",
       "      <td>001</td>\n",
       "      <td>Alameda County</td>\n",
       "      <td>2005</td>\n",
       "      <td>0.14</td>\n",
       "      <td>0.18</td>\n",
       "      <td>0.32</td>\n",
       "      <td>-</td>\n",
       "    </tr>\n",
       "  </tbody>\n",
       "</table>\n",
       "</div>"
      ],
      "text/plain": [
       "  state_cd  state_name county_cd       county_nm  year  \\\n",
       "1       06  California       001  Alameda County  1985   \n",
       "2       06  California       001  Alameda County  1990   \n",
       "3       06  California       001  Alameda County  1995   \n",
       "4       06  California       001  Alameda County  2000   \n",
       "5       06  California       001  Alameda County  2005   \n",
       "\n",
       "  Livestock self-supplied groundwater withdrawals, fresh, in Mgal/d  \\\n",
       "1                                                  -                  \n",
       "2                                                  -                  \n",
       "3                                                  -                  \n",
       "4                                               0.39                  \n",
       "5                                               0.14                  \n",
       "\n",
       "  Livestock self-supplied surface-water withdrawals, fresh, in Mgal/d  \\\n",
       "1                                                  -                    \n",
       "2                                                  -                    \n",
       "3                                                  -                    \n",
       "4                                               0.49                    \n",
       "5                                               0.18                    \n",
       "\n",
       "  Livestock total self-supplied withdrawals, fresh, in Mgal/d  \\\n",
       "1                                                  -            \n",
       "2                                                  -            \n",
       "3                                                  -            \n",
       "4                                               0.88            \n",
       "5                                               0.32            \n",
       "\n",
       "  Livestock consumptive use, fresh, in Mgal/d  \n",
       "1                                           -  \n",
       "2                                           -  \n",
       "3                                           -  \n",
       "4                                           -  \n",
       "5                                           -  "
      ]
     },
     "execution_count": 4,
     "metadata": {},
     "output_type": "execute_result"
    }
   ],
   "source": [
    "#Drop the first row, and again show the first 5 rows of data...\n",
    "dfNWIS.drop(0,axis='rows',inplace=True)\n",
    "dfNWIS.head()\n"
   ]
  },
  {
   "cell_type": "markdown",
   "metadata": {},
   "source": [
    "Another way around this is to invoke the skip rows option when reading the CSV. If you look at the file we are importing, you see that the first 49 rows are comments, then comes our header row, and then the field type row that we don't want. So we want to skip rows 1 thru 49 and also line 51. If we create a list of these row numbers, we can pass that to the skip_rows parameter..."
   ]
  },
  {
   "cell_type": "code",
   "execution_count": null,
   "metadata": {},
   "outputs": [],
   "source": [
    "#Create a list of numbers 0 thru 49, recalling Python lists are zero-indexed...\n",
    "rowsToSkip = list(range(49))\n",
    "#Append '51' to the list\n",
    "rowsToSkip.append(50)"
   ]
  },
  {
   "cell_type": "code",
   "execution_count": null,
   "metadata": {},
   "outputs": [],
   "source": [
    "#Use the read_csv function as before, but skip the rows we want to skip\n",
    "dfNWIS = pd.read_csv(theURL, delimiter='\\t', skiprows=rowsToSkip)\n",
    "dfNWIS.head()"
   ]
  },
  {
   "cell_type": "markdown",
   "metadata": {},
   "source": [
    "Now that we have this as a pandas data frame, we can analyze it here, or we can simply save a copy to our local machine. For the latter, pandas' to_csv() function works quite easily. "
   ]
  },
  {
   "cell_type": "code",
   "execution_count": null,
   "metadata": {},
   "outputs": [],
   "source": [
    "dfNWIS.to_csv(\"Data/NCWaterData.csv\")"
   ]
  },
  {
   "cell_type": "markdown",
   "metadata": {},
   "source": [
    "*Teaser*: We'll look more and Pandas soon, but here we see we can make a quick plot of the data. Here we plot an annual time series of NC Industrial groundwater withdrawals:  "
   ]
  },
  {
   "cell_type": "code",
   "execution_count": null,
   "metadata": {},
   "outputs": [],
   "source": [
    "col =  'Industrial self-supplied groundwater withdrawals, fresh, in Mgal/d'\n",
    "dfNWIS.groupby('year')[col].mean().plot();"
   ]
  },
  {
   "cell_type": "markdown",
   "metadata": {},
   "source": [
    "---\n",
    "## Exercise: \n",
    "► See if you can import NWIS discharge data located at this web address:<br>\n",
    "http://waterdata.usgs.gov/nwis/uv?cb_00060=on&cb_00065=on&format=rdb&period=1&begin_date=&end_date=&site_no=02085070<br> and save it to a file named `NWISDischarge.csv`."
   ]
  },
  {
   "cell_type": "code",
   "execution_count": 8,
   "metadata": {},
   "outputs": [],
   "source": [
    "#Exercise \n",
    "\n",
    "#import panda module\n",
    "import pandas as pd\n",
    "\n",
    "#set url as a variable \n",
    "Url = 'http://waterdata.usgs.gov/nwis/uv?cb_00060=on&cb_00065=on&format=rdb&period=1&begin_date=&end_date=&site_no=02085070'\n",
    "\n",
    "# read the csv on the url \n",
    "\n",
    "NWISdischargedata = pd.read_csv(Url, delimiter = '\\t',comment ='#' )\n",
    "\n",
    "#drop row zero \n",
    "\n",
    "NWISdischargedata.drop(0,axis='rows',inplace=True)\n",
    "\n",
    "#save the discharge data \n",
    "\n",
    "NWISdischargedata.to_csv(\"data/NWISDischarge.csv\")\n",
    "\n"
   ]
  }
 ],
 "metadata": {
  "kernelspec": {
   "display_name": "Python 3",
   "language": "python",
   "name": "python3"
  },
  "language_info": {
   "codemirror_mode": {
    "name": "ipython",
    "version": 3
   },
   "file_extension": ".py",
   "mimetype": "text/x-python",
   "name": "python",
   "nbconvert_exporter": "python",
   "pygments_lexer": "ipython3",
   "version": "3.6.5"
  }
 },
 "nbformat": 4,
 "nbformat_minor": 2
}
